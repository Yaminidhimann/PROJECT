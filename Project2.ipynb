{
  "nbformat": 4,
  "nbformat_minor": 0,
  "metadata": {
    "colab": {
      "provenance": [],
      "authorship_tag": "ABX9TyOEmGwmn7tsDC9kq8qP0hzg",
      "include_colab_link": true
    },
    "kernelspec": {
      "name": "python3",
      "display_name": "Python 3"
    },
    "language_info": {
      "name": "python"
    }
  },
  "cells": [
    {
      "cell_type": "markdown",
      "metadata": {
        "id": "view-in-github",
        "colab_type": "text"
      },
      "source": [
        "<a href=\"https://colab.research.google.com/github/Yaminidhimann/PROJECT/blob/main/Project2.ipynb\" target=\"_parent\"><img src=\"https://colab.research.google.com/assets/colab-badge.svg\" alt=\"Open In Colab\"/></a>"
      ]
    },
    {
      "cell_type": "code",
      "execution_count": null,
      "metadata": {
        "colab": {
          "base_uri": "https://localhost:8080/"
        },
        "id": "M5-5wT2qV-E-",
        "outputId": "00d1f396-159a-476b-ce4b-8a71560b0d95"
      },
      "outputs": [
        {
          "metadata": {
            "tags": null
          },
          "name": "stdout",
          "output_type": "stream",
          "text": [
            "Welcome to our restaurant!\n",
            "\n",
            "Menu:\n",
            "Pizza: $10\n",
            "Burger: $8\n",
            "Salad: $6\n",
            "Coke: $2\n",
            "Coffee: $3\n",
            "\n",
            "1. Add item to order\n",
            "2. Remove item from order\n",
            "3. View order\n",
            "4. Checkout\n",
            "5. Exit\n",
            "Invalid choice. Please enter a number between 1 and 5.\n",
            "\n",
            "Menu:\n",
            "Pizza: $10\n",
            "Burger: $8\n",
            "Salad: $6\n",
            "Coke: $2\n",
            "Coffee: $3\n",
            "\n",
            "1. Add item to order\n",
            "2. Remove item from order\n",
            "3. View order\n",
            "4. Checkout\n",
            "5. Exit\n"
          ]
        }
      ],
      "source": [
        "class MenuItem:\n",
        "    def __init__(self, name, price):\n",
        "        self.name = name\n",
        "        self.price = price\n",
        "\n",
        "class FoodItem(MenuItem):\n",
        "    def __init__(self, name, price):\n",
        "        super().__init__(name, price)\n",
        "\n",
        "class DrinkItem(MenuItem):\n",
        "    def __init__(self, name, price):\n",
        "        super().__init__(name, price)\n",
        "\n",
        "class Order:\n",
        "    def __init__(self):\n",
        "        self.items = []\n",
        "\n",
        "    def add_item(self, item):\n",
        "        self.items.append(item)\n",
        "\n",
        "    def remove_item(self, item):\n",
        "        if item in self.items:\n",
        "            self.items.remove(item)\n",
        "\n",
        "    def total_price(self):\n",
        "        return sum(item.price for item in self.items)\n",
        "\n",
        "class Menu:\n",
        "    def __init__(self):\n",
        "        self.menu_items = {}\n",
        "\n",
        "    def add_item(self, item):\n",
        "        self.menu_items[item.name] = item\n",
        "\n",
        "    def display_menu(self):\n",
        "        for name, item in self.menu_items.items():\n",
        "            print(f\"{name}: ${item.price}\")\n",
        "\n",
        "menu = Menu()\n",
        "menu.add_item(FoodItem(\"Pizza\", 10))\n",
        "menu.add_item(FoodItem(\"Burger\", 8))\n",
        "menu.add_item(FoodItem(\"Salad\", 6))\n",
        "menu.add_item(DrinkItem(\"Coke\", 2))\n",
        "menu.add_item(DrinkItem(\"Coffee\", 3))\n",
        "\n",
        "order = Order()\n",
        "\n",
        "print(\"Welcome to our restaurant!\")\n",
        "while True:\n",
        "    print(\"\\nMenu:\")\n",
        "    menu.display_menu()\n",
        "    print(\"\\n1. Add item to order\")\n",
        "    print(\"2. Remove item from order\")\n",
        "    print(\"3. View order\")\n",
        "    print(\"4. Checkout\")\n",
        "    print(\"5. Exit\")\n",
        "\n",
        "    choice = input(\"\\nEnter your choice: \")\n",
        "\n",
        "    if choice == \"1\":\n",
        "        item_name = input(\"Enter the name of the item you want to add: \")\n",
        "        if item_name in menu.menu_items:\n",
        "            order.add_item(menu.menu_items[item_name])\n",
        "            print(f\"{item_name} added to order.\")\n",
        "        else:\n",
        "            print(\"Item not found in menu.\")\n",
        "\n",
        "    elif choice == \"2\":\n",
        "        item_name = input(\"Enter the name of the item you want to remove: \")\n",
        "        if item_name in menu.menu_items:\n",
        "            order.remove_item(menu.menu_items[item_name])\n",
        "            print(f\"{item_name} removed from order.\")\n",
        "        else:\n",
        "            print(\"Item not found in menu.\")\n",
        "\n",
        "    elif choice == \"3\":\n",
        "        print(\"\\nYour order:\")\n",
        "        for item in order.items:\n",
        "            print(f\"{item.name}: $2\\\n",
        "            {item.price}\")\n",
        "        print(f\"Total price: ${order.total_price()}\")\n",
        "\n",
        "    elif choice == \"4\":\n",
        "        print(\"\\nThank you for your order! Your total is $\", order.total_price())\n",
        "        break\n",
        "\n",
        "    elif choice == \"5\":\n",
        "        print(\"Thank you for visiting our restaurant! Goodbye!\")\n",
        "        break\n",
        "\n",
        "    else:\n",
        "        print(\"Invalid choice. Please enter a number between 1 and 5.\")\n"
      ]
    }
  ]
}