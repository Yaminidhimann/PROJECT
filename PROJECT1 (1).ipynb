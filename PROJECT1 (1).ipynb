{
  "nbformat": 4,
  "nbformat_minor": 0,
  "metadata": {
    "colab": {
      "provenance": []
    },
    "kernelspec": {
      "name": "python3",
      "display_name": "Python 3"
    },
    "language_info": {
      "name": "python"
    }
  },
  "cells": [
    {
      "cell_type": "code",
      "execution_count": 1,
      "metadata": {
        "colab": {
          "base_uri": "https://localhost:8080/"
        },
        "id": "syW2J6XLKyj-",
        "outputId": "8f644df0-29a9-49fc-ffd0-ffca296fcf90"
      },
      "outputs": [
        {
          "output_type": "stream",
          "name": "stdout",
          "text": [
            "1. Add Task\n",
            "2. View Tasks\n",
            "3. Mark Task as Completed\n",
            "4. Delete Task\n",
            "5. Exit\n",
            "Enter your choice: 1\n",
            "Enter the task: STUDY PYTHON\n",
            "Task added successfully!\n",
            "1. Add Task\n",
            "2. View Tasks\n",
            "3. Mark Task as Completed\n",
            "4. Delete Task\n",
            "5. Exit\n",
            "Enter your choice: 2\n",
            "Tasks:\n",
            "1. STUDY PYTHON\n",
            "1. Add Task\n",
            "2. View Tasks\n",
            "3. Mark Task as Completed\n",
            "4. Delete Task\n",
            "5. Exit\n",
            "Enter your choice: 3\n",
            "Tasks:\n",
            "1. STUDY PYTHON\n",
            "Enter the task number to mark as completed: 1\n",
            "Task 'STUDY PYTHON' marked as completed.\n",
            "1. Add Task\n",
            "2. View Tasks\n",
            "3. Mark Task as Completed\n",
            "4. Delete Task\n",
            "5. Exit\n",
            "Enter your choice: 4\n",
            "No tasks to delete.\n",
            "1. Add Task\n",
            "2. View Tasks\n",
            "3. Mark Task as Completed\n",
            "4. Delete Task\n",
            "5. Exit\n",
            "Enter your choice: 5\n",
            "Exiting...\n"
          ]
        }
      ],
      "source": [
        "def main():\n",
        "    tasks = []  # Initialize an empty list to store tasks\n",
        "    while True:\n",
        "        # Display the menu options\n",
        "        print(\"1. Add Task\")\n",
        "        print(\"2. View Tasks\")\n",
        "        print(\"3. Mark Task as Completed\")\n",
        "        print(\"4. Delete Task\")\n",
        "        print(\"5. Exit\")\n",
        "\n",
        "        # Get user choice\n",
        "        choice = input(\"Enter your choice: \")\n",
        "\n",
        "        if choice == \"1\":\n",
        "            task = input(\"Enter the task: \")\n",
        "            tasks.append(task)\n",
        "            print(\"Task added successfully!\")\n",
        "        elif choice == \"2\":\n",
        "            if tasks:\n",
        "                print(\"Tasks:\")\n",
        "                for i, task in enumerate(tasks, 1):\n",
        "                    print(f\"{i}. {task}\")\n",
        "            else:\n",
        "                print(\"No tasks.\")\n",
        "        elif choice == \"3\":\n",
        "            if tasks:\n",
        "                print(\"Tasks:\")\n",
        "                for i, task in enumerate(tasks, 1):\n",
        "                    print(f\"{i}. {task}\")\n",
        "                task_num = int(input(\"Enter the task number to mark as completed: \"))\n",
        "                if 1 <= task_num <= len(tasks):\n",
        "                    print(f\"Task '{tasks[task_num - 1]}' marked as completed.\")\n",
        "                    del tasks[task_num - 1]\n",
        "                else:\n",
        "                    print(\"Invalid task number.\")\n",
        "            else:\n",
        "                print(\"No tasks to mark as completed.\")\n",
        "        elif choice == \"4\":\n",
        "            if tasks:\n",
        "                print(\"Tasks:\")\n",
        "                for i, task in enumerate(tasks, 1):\n",
        "                    print(f\"{i}. {task}\")\n",
        "                task_num = int(input(\"Enter the task number to delete: \"))\n",
        "                if 1 <= task_num <= len(tasks):\n",
        "                    del tasks[task_num - 1]\n",
        "                    print(\"Task deleted successfully!\")\n",
        "                else:\n",
        "                    print(\"Invalid task number.\")\n",
        "            else:\n",
        "                print(\"No tasks to delete.\")\n",
        "        elif choice == \"5\":\n",
        "            print(\"Exiting...\")\n",
        "            break  # Exit the loop and end the program\n",
        "        else:\n",
        "            print(\"Invalid choice. Please try again.\")  # Handle invalid input\n",
        "\n",
        "# Call the main function directly\n",
        "main()"
      ]
    }
  ]
}